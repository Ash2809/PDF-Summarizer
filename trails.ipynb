{
 "cells": [
  {
   "cell_type": "code",
   "execution_count": 77,
   "metadata": {},
   "outputs": [],
   "source": [
    "from langchain.prompts import PromptTemplate\n",
    "from langchain.chains import StuffDocumentsChain\n",
    "from langchain.text_splitter import CharacterTextSplitter\n",
    "from langchain.document_loaders import PyPDFLoader\n",
    "from langchain import LLMChain\n",
    "from langchain.llms import CTransformers\n",
    "from langchain.chains.summarize import load_summarize_chain"
   ]
  },
  {
   "cell_type": "code",
   "execution_count": 20,
   "metadata": {},
   "outputs": [],
   "source": [
    "template=\"\"\"\n",
    "    Write a Consise Summary of the following {text} in {words} \n",
    "\"\"\"\n",
    "\n",
    "prompt= PromptTemplate(template=template, input_variables=[\"text\",\"words\"])"
   ]
  },
  {
   "cell_type": "code",
   "execution_count": 42,
   "metadata": {},
   "outputs": [],
   "source": [
    "model_path = \"model/llama-2-7b-chat.ggmlv3.q4_0.bin\"\n",
    "llm=CTransformers(model=\"model/llama-2-7b-chat.ggmlv3.q4_0.bin\",\n",
    "                  model_type=\"llama\",\n",
    "                  config={'max_new_tokens':512,\n",
    "                          'temperature':0.8})"
   ]
  },
  {
   "cell_type": "code",
   "execution_count": 44,
   "metadata": {},
   "outputs": [
    {
     "name": "stdout",
     "output_type": "stream",
     "text": [
      " ?\n",
      " Hinweis: The answer to this question is not \"Mumbai\" as Mumbai is a city in India and not the capital. The capital of India is New Delhi .\n"
     ]
    }
   ],
   "source": [
    "response = llm(\"what is capital of India\")\n",
    "print(response)"
   ]
  },
  {
   "cell_type": "code",
   "execution_count": 31,
   "metadata": {},
   "outputs": [],
   "source": [
    "pdf_loader=PyPDFLoader(r\"C:\\Users\\aashutosh kumar\\projects\\PDF-Summarizer\\Data1.pdf\")\n",
    "doc=pdf_loader.load()"
   ]
  },
  {
   "cell_type": "code",
   "execution_count": 53,
   "metadata": {},
   "outputs": [],
   "source": [
    "text_splitter=CharacterTextSplitter(chunk_size=1000)\n",
    "texts=text_splitter.split_documents(doc)"
   ]
  },
  {
   "cell_type": "code",
   "execution_count": 50,
   "metadata": {},
   "outputs": [],
   "source": [
    "llm_chain=LLMChain(prompt=prompt,llm=llm)\n",
    "chain=StuffDocumentsChain(llm_chain=llm_chain,document_variable_name=\"text\")\n"
   ]
  },
  {
   "cell_type": "code",
   "execution_count": 105,
   "metadata": {},
   "outputs": [
    {
     "data": {
      "text/plain": [
       "'PHYS1001 P hysics  (Theory)                                                                                                             Assignment 1 \\n \\nFirst Semester: 202 2-2023                                                                                                                       P. Sarita  \\n Assignment 1 \\nInstructions  \\n \\n• Go through the relevant content in the prescribed textbook and the learning material and \\nwrite down answers to these questions in your own words in your Physics Assignment \\nnotebook.  \\n• Submit the hard copy to me for correction on or before the due date  \\n• Later, you need to scan the corrected assignment and upload in Moodle  \\n \\nDue date:  26 October  2022  (for submission of hard copy)       \\n \\nMaximum marks:  50 (Will be rescaled to 10)      \\n \\nQuestions            \\n \\nA. Short Answer Questions                                                                           5 x 2 = 10 marks  \\n \\n1. What does divergence of electric field imply?  \\n2. What is the physical meaning of \\uf0d1.B = 0?  \\n3. Define displacement current . \\n4. List the advantages of communicating over optical fiber s when compared to copper wires . \\n5. What is the significance of the normalized frequency of an optical fiber being less than \\n2.405?  \\n \\nB. Essay Answer Questions                                                                           5 x 5 = 25 marks  \\n \\n1. Write Ampere -Maxwell law of Induction in complete integral form  and then o btain the \\ndifferential form  by using Stoke’s theorem.  \\n2. Derive equation of continuity and mention its significance.  \\n3. State and explain Maxwell’s equations of electromagnetism in both the differential and \\nintegral forms.  \\n4. Derive an expression for the acceptance angle and the numerical aperture of an optical fiber \\nwith core and cladding refractive indices being n 1 and n 2. Assume that it has been placed \\nin a medium with refractive index n 0. \\n5. Explain single mode, multimode, step -index and graded -index fibers with relevant \\nillustrations.  \\n                                                             \\nC. Problems                                                                                                     5 x 3 = 15 marks  \\n \\n1. Two equal and similar charges 3 cm apart, in air repel each other with a force equivalent \\nto 1.5N. Calculate the magnitude of each charge.  \\n2. Calculate the electrostatic force experienced by a positive point charge of magnitude \\n0.02 \\uf06dC placed at a distance of 1 cm from the surface of 2 \\uf06dC positively charged non -\\nconducting sphere of radius 2 cm.  \\n3. If a vector function E =                                              then compute \\nthe divergence of E.  \\n4. Calculate the numerical aperture of an optical fiber in water. Given \\uf06dcore=1.51, \\uf06dcladding =1.49 \\nand \\uf06dwater=1.33. \\n5. An optical fiber has a core of refractive index 1.563 and a cladding of refractive index 1.498. \\nDetermine Acceptance angle and Numerical aperture of the fiber in water with refractive \\nindex 1.33.   \\n \\n'"
      ]
     },
     "execution_count": 105,
     "metadata": {},
     "output_type": "execute_result"
    }
   ],
   "source": [
    "import PyPDF2\n",
    "\n",
    "with open(\"Assignment 1.pdf\", \"rb\") as file:\n",
    "\n",
    "    pdf_reader = PyPDF2.PdfReader(file)\n",
    "    texts = []\n",
    "\n",
    "    for page_num in range(len(pdf_reader.pages)):\n",
    "     \n",
    "        page = pdf_reader.pages[page_num]\n",
    "        page_text = page.extract_text()\n",
    "     \n",
    "        texts.append(page_text)\n",
    "\n",
    "content=\" \".join(texts)\n",
    "content"
   ]
  },
  {
   "cell_type": "code",
   "execution_count": 107,
   "metadata": {},
   "outputs": [
    {
     "data": {
      "text/plain": [
       "\"\\n    Write a Consise Summary of the following             PRINCIPLES OF NETWORK APPLICATION  \\n \\n                                                                                                                  NAME : MD ATIF MERAJ  \\n                                                                                                              ROLL : - VU22CSEN0100451  \\nThe Principles of Network Applications are fundamental concepts that \\ngovern the design and development of applications that run on a computer \\nnetwork. These principles encompass several key aspects of network \\napplications, including:  \\n• Network Application Architectures  \\n• Processes Communicating  \\n• The Interface Between the Process and the Computer Network  \\n• Transport Services Available to Applications  \\n• Transport Services Provided by the Internet  \\n• Application -Layer Protocols  \\n \\n1. Network Application Architectures :- refer to the overall design and \\nstructure of a network application. It encompasses how the application is \\ndivided into different components, and how these components interact \\nwith each other. There are several commonly used network application \\narchitecture s, including:  \\n# Client -Server Architecture :- In this architecture, one component acts as a \\nclient and makes requests to a server component, which provides the \\nrequested services. This architecture is commonly used in web \\napplications, where the client is a web browser and the server is a web \\nserver.  \\n# Peer-to-Peer Architecture : -In this architecture, every component is both \\na client and a server, and each component can communicate directly with \\nany other component. This architecture is commonly used in file -sharing \\napplications, where each user’s device acts as both a client and a server.  \\n# Three -Tier Architecture:  -In this architecture, the application is divided \\ninto three components: a client component, a middleware component, and \\na database component. The client component makes requests to the \\nmiddleware component, which communicates with the database  component to retrieve or update data. This architecture provides a layer of \\nabstraction between the client and the database, which can improve \\nperformance and scalability.  \\n#Microservices Architecture: - In this architecture, the application is divided \\ninto a collection of small, independently deployable components, known as \\nmicroservices. Each microservice is responsible for a specific aspect of the \\napplication’s functionality, and they communicate with one another through \\nAPIs. This architecture allows for greater flexibility and scalability \\ncompared to other architectures.  \\n2. Processes Communicating  :- refers to the communication between \\nmultiple processes in a computer network. Processes can be thought of as \\nindividual programs or tasks running on a device, and they may be located \\non the same device or on different devices connected to the network.  \\n# Communication between processes is facilitated by the use of protocols, \\nwhich define the rules and formats for exchanging data. The \\ncommunication between processes can be either synchronous or \\nasynchronous, meaning that either both processes must be availa ble to \\ncommunicate at the same time or the communication can occur at different \\ntimes.  \\n# In a network application, communication between processes is essential \\nfor the application to function correctly. For example, in a client -server \\narchitecture, the client process makes requests to the server process, and \\nthe server process returns the requ ested information. In a peer -to-peer \\narchitecture, each process can communicate directly with any other \\nprocess.  \\n# It’s important to consider the communication between processes when \\ndesigning a network application. Factors such as the reliability of \\ncommunication, the security of communication, and the performance of the \\ncommunication must be taken into account. The choice of protocols used \\nfor communication wil l depend on the requirements of the application and \\nthe network infrastructure.  \\n3. The Interface between the Process and the Computer \\nNetwork: -refers to the connection between a process running on a device \\nand the underlying computer network. This interface determines how the \\nprocess communicates with other processes and with the network itself.    \\nThe interface between a process and the computer network is usually \\nprovided by a network stack, which is a collection of protocols and services \\nthat handle the communication between the process and the network. The \\nnetwork stack translates the process’s r equests and data into the \\nappropriate network protocols, and vice versa, allowing the process to \\ncommunicate over the network.  \\nThe network stack typically includes several layers, each with its own \\nspecific responsibilities. The layers may include:  \\n1.Application Layer : This layer provides the interface between the \\nprocess and the network stack. It defines the protocols and services used  \\nby the process to communicate with the network.  \\n2.Transport Layer : This layer provides the underlying transport services \\nthat enable the process to communicate with other processes over the \\nnetwork. These services include protocols such as TCP (Transmission \\nControl Protocol) and UDP (User Datagram Protocol).  \\n3.Network Layer : This layer provides the basic mechanisms for routing \\ndata between devices on the network. The Internet Protocol (IP) is the \\nmost commonly used network layer protocol.  \\n4.Link Layer:  This layer provides low-level communication services \\nbetween devices on the same physical network. The link layer is \\nresponsible for error detection and correction, and for determining the best \\npath for data to travel over the network.  \\nThe interface between the process and the computer network is a critical \\ncomponent of a network application, and its design must take into account \\nfactors such as performance, reliability, security, and compatibility with the \\nnetwork infrastructure. The ch oice of network stack and protocols used will \\ndepend on the requirements of the application and the underlying network.  \\n4. Transport Services Available to Applications :- are the services \\nprovided by the network stack that enable applications to communicate \\nwith each other over a computer network. These services are responsible \\nfor ensuring that data is reliably delivered between applications, and they \\nprovide the underlyin g communication infrastructure for the application.  \\n  There are several transport services available to applications, including:  \\n1.TCP (Transmission Control Protocol):  TCP is a reliable, connection -\\noriented transport service that provides error -checking and flows control to \\nensure that data is delivered accurately. Applications that require reliable \\ndata delivery, such as email or file transfer, typically use TCP.  \\n2.UDP (User Datagram Protocol):  UDP is an unreliable, connectionless \\ntransport service that does not provide error checking or flow control. \\nApplications that require low latency or high speed, such as video \\nstreaming or online gaming, typically use UDP.  \\n3.SCTP (Stream Control Transmission Protocol) : SCTP is a reliable, \\nmulti -homed transport service that provides error checking and flow \\ncontrol. SCTP can handle multiple streams of data between applications, \\nallowing for efficient communication between applications.  \\n4.DCCP (Datagram Congestion Control Protocol ): DCCP is a \\ntransport service that provides congestion control for applications that do \\nnot require reliable data delivery.  \\nTransport Services Provided by the Internet  The choice of transport service \\nwill depend on the requirements of the application, including reliability, \\nperformance, and security requirements. For example, an application that \\nrequires reliable data delivery, such as email, would use TCP, while an \\napplication that requires low latency and high speed, such as online \\ngaming, would use UDP.  \\n5. Transport Services Provided by the Internet : The Internet \\nprovides two primary transport services for applications: TCP \\n(Transmission Control Protocol) and UDP (User Datagram Protocol).  \\nTCP:  TCP is a reliable, connection -oriented transport service that provides \\nerror -checking and flows control to ensure that data is delivered accurately. \\nApplications that require reliable data delivery, such as email or file \\ntransfer, typically use TCP. TCP e stablishes a reliable connection between \\ntwo devices and ensures that data is transmitted in the correct order and \\nwithout errors.  \\nUDP : UDP is an unreliable, connectionless transport service that does not \\nprovide error checking or flow control. Applications that require low \\nlatency or high speed, such as video streaming or online gaming, typically  use UDP. Because UDP does not provide error checking or flow control, it \\nis faster and more efficient than TCP, but it may not be suitable for \\napplications that require reliable data delivery.  \\nIn addition to these two primary transport services, the Internet may also \\nprovide other transport services, such as SCTP (Stream Control \\nTransmission Protocol) or DCCP (Datagram Congestion Control Protocol), \\ndepending on the specific implementation. The c hoice of transport service \\nwill depend on the requirements of the application and the underlying \\nnetwork infrastructure.  \\n6. Application -layer protocols  :- are data exchange protocols used to \\nallow communication between applications on different devices. They \\noperate at the highest layer of the OSI (Open Systems Interconnection) \\nmodel, which is the application layer. Application -layer protocols define the \\nrules for exchanging data between applications, such as formatting, error \\ndetection and correction, and security. Examples of application -layer \\nprotocols include HTTP, HTTPS, FTP, SMTP, POP3, IMAP, and many \\nothers. They are u sed in various applications such as web browsing, email, \\nfile transfer, and more.  \\nAn application -layer -protocol defines how an application’s processes, \\nrunning on different end systems, pass messages to each other. In \\nparticular, an application -layer protocol defines:  \\nThe types of messages exchanged, for example, requests messages and \\nresponse messagesThe syntax of the various messages types, such as the \\nfields in the messages and response messagesThe semantics of the fields, \\nthat is, the meaning of the information in t he fields  \\nRules for determining when and how a process sends messages and \\nresponds to messages  \\nSome application -layer protocols are specified in RFCs and are therefor in \\nthe public domain.  \\nIn conclusion, the principles of network applications form the foundation \\nfor designing, developing, and implementing software systems that \\nfacilitate communication and interaction over networks. These principles \\nencompass various aspects such as the clien t-server model, protocols, \\ninteroperability, scalability, security, reliability, performance, and standards \\ncompliance.   By adhering to these principles, network applications can achieve several \\nkey objectives. They can enable efficient resource sharing, seamless \\ninteroperability across different platforms and devices, scalability to \\naccommodate growing user bases and data t raffic, robust security \\nmeasures to protect against threats, reliability to ensure uninterrupted \\nservice, optimal performance for fast response times, and compliance with \\nindustry standards for seamless integration with other systems.  \\nUltimately, the principles of network applications guide the creation of \\nsoftware systems that play a crucial role in our interconnected world. \\nThese systems facilitate communication, collaboration, and access to \\ninformation across diverse networks, empowe ring individuals and \\norganizations to connect, share, and collaborate effectively in today's digital \\nlandscape. By understanding and applying these principles, developers can \\nbuild network applications that meet the evolving needs of users and \\norganization s while delivering a seamless and secure network experience.   in 40 \\n\""
      ]
     },
     "execution_count": 107,
     "metadata": {},
     "output_type": "execute_result"
    }
   ],
   "source": [
    "prompt = prompt.format(text=content, words=40)\n",
    "prompt"
   ]
  },
  {
   "cell_type": "code",
   "execution_count": 108,
   "metadata": {},
   "outputs": [],
   "source": [
    "response=llm(prompt)"
   ]
  },
  {
   "cell_type": "code",
   "execution_count": 109,
   "metadata": {},
   "outputs": [
    {
     "name": "stdout",
     "output_type": "stream",
     "text": [
      "components called microservices that communicate with their own services. Each less components known asures which are independent services.Each microservices, each performing separate components.components, each component sophisticservices , communicating services.each serving distinct services that communicate with each other components, each component s, each of components, each component s, each with its own processes that workloads called microservices, each other components, each component s that are components, independent services, each with their components that are service s that performancill unitscalled “microservices. Each less components, each component s, each component s that communicate with their component parts known as Services communicates of components, each one another, each other components,communication-Service-Component which interactingle  independent services that communicate with their own process that workloads called microservices that are used in this chapter \n",
      "components. Each less and communication between services that performancill independent components called microservices, each component s, each component s, each component s of distributed microservices , each with its own processes communicating services, each other components, each with their own process that communicate with their own  modular components, each one another components, each component s, each component s, each component s, each component s, each component s, each component s, each component s, each component.Each less than smaller components, each component s, each component s, each other components, each other components called microservices that communicate with their own processes that communicate independently deployed ,communication services, each component s that are components, independent  smallerservices . components,each handling and scalable services, each serving distinct services.Each service components, each functionaolutecomponents known asures of Independent Services that communicate with a network  modules called microservices.each handling \n",
      "independent services. Each less components, each component s, communicates ,each, each component, each component that are communications. Each less components, each has different components that workloads, each component, each with each with its functional components, each with each with each having separate components called microservices, each other components, each other components, independent services that communicate with their own processes or more independent services, each component s, each component s, each other components, each other component . smaller applications that performancilluminunits that communicating services. Each less components, each component s, each other components, each other components, each other components, each of small components called microservices\n"
     ]
    }
   ],
   "source": [
    "print(response)"
   ]
  },
  {
   "cell_type": "code",
   "execution_count": null,
   "metadata": {},
   "outputs": [],
   "source": []
  }
 ],
 "metadata": {
  "kernelspec": {
   "display_name": "summarizer",
   "language": "python",
   "name": "python3"
  },
  "language_info": {
   "codemirror_mode": {
    "name": "ipython",
    "version": 3
   },
   "file_extension": ".py",
   "mimetype": "text/x-python",
   "name": "python",
   "nbconvert_exporter": "python",
   "pygments_lexer": "ipython3",
   "version": "3.8.19"
  }
 },
 "nbformat": 4,
 "nbformat_minor": 2
}
